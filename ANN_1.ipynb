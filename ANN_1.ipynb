{
  "nbformat": 4,
  "nbformat_minor": 0,
  "metadata": {
    "colab": {
      "provenance": []
    },
    "kernelspec": {
      "name": "python3",
      "display_name": "Python 3"
    },
    "language_info": {
      "name": "python"
    }
  },
  "cells": [
    {
      "cell_type": "code",
      "execution_count": null,
      "metadata": {
        "colab": {
          "base_uri": "https://localhost:8080/"
        },
        "id": "WDeKfLiJmBOY",
        "outputId": "dadd6412-3d23-4af2-a152-e9e8d5186c71"
      },
      "outputs": [
        {
          "output_type": "stream",
          "name": "stdout",
          "text": [
            "File ‘bbc_text_cls.csv’ already there; not retrieving.\n",
            "\n"
          ]
        }
      ],
      "source": [
        "# https://www.kaggle.com/shivamkushwaha/bbc-full-text-document-classification\n",
        "!wget -nc https://lazyprogrammer.me/course_files/nlp/bbc_text_cls.csv"
      ]
    },
    {
      "cell_type": "code",
      "source": [
        "import numpy as np\n",
        "import pandas as pd\n",
        "import matplotlib.pyplot as plt\n",
        "import seaborn as sns"
      ],
      "metadata": {
        "id": "pgehrDNnmHq9"
      },
      "execution_count": null,
      "outputs": []
    },
    {
      "cell_type": "code",
      "source": [
        "import tensorflow as tf\n",
        "from tensorflow.keras.layers import Dense,Input\n",
        "from tensorflow.keras.models import Model"
      ],
      "metadata": {
        "id": "QNDUj4GnmY7J"
      },
      "execution_count": null,
      "outputs": []
    },
    {
      "cell_type": "code",
      "source": [
        "df=pd.read_csv('bbc_text_cls.csv')"
      ],
      "metadata": {
        "id": "GeDw6UwFmpKh"
      },
      "execution_count": null,
      "outputs": []
    },
    {
      "cell_type": "code",
      "source": [
        "df.head()"
      ],
      "metadata": {
        "colab": {
          "base_uri": "https://localhost:8080/",
          "height": 206
        },
        "id": "huuVLVNzmuN0",
        "outputId": "5baee383-8417-447d-bbc6-9be9eb6a9268"
      },
      "execution_count": null,
      "outputs": [
        {
          "output_type": "execute_result",
          "data": {
            "text/plain": [
              "                                                text    labels\n",
              "0  Ad sales boost Time Warner profit\\n\\nQuarterly...  business\n",
              "1  Dollar gains on Greenspan speech\\n\\nThe dollar...  business\n",
              "2  Yukos unit buyer faces loan claim\\n\\nThe owner...  business\n",
              "3  High fuel prices hit BA's profits\\n\\nBritish A...  business\n",
              "4  Pernod takeover talk lifts Domecq\\n\\nShares in...  business"
            ],
            "text/html": [
              "\n",
              "  <div id=\"df-23d3469e-dfb7-46e1-8138-a0228d20c69f\">\n",
              "    <div class=\"colab-df-container\">\n",
              "      <div>\n",
              "<style scoped>\n",
              "    .dataframe tbody tr th:only-of-type {\n",
              "        vertical-align: middle;\n",
              "    }\n",
              "\n",
              "    .dataframe tbody tr th {\n",
              "        vertical-align: top;\n",
              "    }\n",
              "\n",
              "    .dataframe thead th {\n",
              "        text-align: right;\n",
              "    }\n",
              "</style>\n",
              "<table border=\"1\" class=\"dataframe\">\n",
              "  <thead>\n",
              "    <tr style=\"text-align: right;\">\n",
              "      <th></th>\n",
              "      <th>text</th>\n",
              "      <th>labels</th>\n",
              "    </tr>\n",
              "  </thead>\n",
              "  <tbody>\n",
              "    <tr>\n",
              "      <th>0</th>\n",
              "      <td>Ad sales boost Time Warner profit\\n\\nQuarterly...</td>\n",
              "      <td>business</td>\n",
              "    </tr>\n",
              "    <tr>\n",
              "      <th>1</th>\n",
              "      <td>Dollar gains on Greenspan speech\\n\\nThe dollar...</td>\n",
              "      <td>business</td>\n",
              "    </tr>\n",
              "    <tr>\n",
              "      <th>2</th>\n",
              "      <td>Yukos unit buyer faces loan claim\\n\\nThe owner...</td>\n",
              "      <td>business</td>\n",
              "    </tr>\n",
              "    <tr>\n",
              "      <th>3</th>\n",
              "      <td>High fuel prices hit BA's profits\\n\\nBritish A...</td>\n",
              "      <td>business</td>\n",
              "    </tr>\n",
              "    <tr>\n",
              "      <th>4</th>\n",
              "      <td>Pernod takeover talk lifts Domecq\\n\\nShares in...</td>\n",
              "      <td>business</td>\n",
              "    </tr>\n",
              "  </tbody>\n",
              "</table>\n",
              "</div>\n",
              "      <button class=\"colab-df-convert\" onclick=\"convertToInteractive('df-23d3469e-dfb7-46e1-8138-a0228d20c69f')\"\n",
              "              title=\"Convert this dataframe to an interactive table.\"\n",
              "              style=\"display:none;\">\n",
              "        \n",
              "  <svg xmlns=\"http://www.w3.org/2000/svg\" height=\"24px\"viewBox=\"0 0 24 24\"\n",
              "       width=\"24px\">\n",
              "    <path d=\"M0 0h24v24H0V0z\" fill=\"none\"/>\n",
              "    <path d=\"M18.56 5.44l.94 2.06.94-2.06 2.06-.94-2.06-.94-.94-2.06-.94 2.06-2.06.94zm-11 1L8.5 8.5l.94-2.06 2.06-.94-2.06-.94L8.5 2.5l-.94 2.06-2.06.94zm10 10l.94 2.06.94-2.06 2.06-.94-2.06-.94-.94-2.06-.94 2.06-2.06.94z\"/><path d=\"M17.41 7.96l-1.37-1.37c-.4-.4-.92-.59-1.43-.59-.52 0-1.04.2-1.43.59L10.3 9.45l-7.72 7.72c-.78.78-.78 2.05 0 2.83L4 21.41c.39.39.9.59 1.41.59.51 0 1.02-.2 1.41-.59l7.78-7.78 2.81-2.81c.8-.78.8-2.07 0-2.86zM5.41 20L4 18.59l7.72-7.72 1.47 1.35L5.41 20z\"/>\n",
              "  </svg>\n",
              "      </button>\n",
              "      \n",
              "  <style>\n",
              "    .colab-df-container {\n",
              "      display:flex;\n",
              "      flex-wrap:wrap;\n",
              "      gap: 12px;\n",
              "    }\n",
              "\n",
              "    .colab-df-convert {\n",
              "      background-color: #E8F0FE;\n",
              "      border: none;\n",
              "      border-radius: 50%;\n",
              "      cursor: pointer;\n",
              "      display: none;\n",
              "      fill: #1967D2;\n",
              "      height: 32px;\n",
              "      padding: 0 0 0 0;\n",
              "      width: 32px;\n",
              "    }\n",
              "\n",
              "    .colab-df-convert:hover {\n",
              "      background-color: #E2EBFA;\n",
              "      box-shadow: 0px 1px 2px rgba(60, 64, 67, 0.3), 0px 1px 3px 1px rgba(60, 64, 67, 0.15);\n",
              "      fill: #174EA6;\n",
              "    }\n",
              "\n",
              "    [theme=dark] .colab-df-convert {\n",
              "      background-color: #3B4455;\n",
              "      fill: #D2E3FC;\n",
              "    }\n",
              "\n",
              "    [theme=dark] .colab-df-convert:hover {\n",
              "      background-color: #434B5C;\n",
              "      box-shadow: 0px 1px 3px 1px rgba(0, 0, 0, 0.15);\n",
              "      filter: drop-shadow(0px 1px 2px rgba(0, 0, 0, 0.3));\n",
              "      fill: #FFFFFF;\n",
              "    }\n",
              "  </style>\n",
              "\n",
              "      <script>\n",
              "        const buttonEl =\n",
              "          document.querySelector('#df-23d3469e-dfb7-46e1-8138-a0228d20c69f button.colab-df-convert');\n",
              "        buttonEl.style.display =\n",
              "          google.colab.kernel.accessAllowed ? 'block' : 'none';\n",
              "\n",
              "        async function convertToInteractive(key) {\n",
              "          const element = document.querySelector('#df-23d3469e-dfb7-46e1-8138-a0228d20c69f');\n",
              "          const dataTable =\n",
              "            await google.colab.kernel.invokeFunction('convertToInteractive',\n",
              "                                                     [key], {});\n",
              "          if (!dataTable) return;\n",
              "\n",
              "          const docLinkHtml = 'Like what you see? Visit the ' +\n",
              "            '<a target=\"_blank\" href=https://colab.research.google.com/notebooks/data_table.ipynb>data table notebook</a>'\n",
              "            + ' to learn more about interactive tables.';\n",
              "          element.innerHTML = '';\n",
              "          dataTable['output_type'] = 'display_data';\n",
              "          await google.colab.output.renderOutput(dataTable, element);\n",
              "          const docLink = document.createElement('div');\n",
              "          docLink.innerHTML = docLinkHtml;\n",
              "          element.appendChild(docLink);\n",
              "        }\n",
              "      </script>\n",
              "    </div>\n",
              "  </div>\n",
              "  "
            ]
          },
          "metadata": {},
          "execution_count": 74
        }
      ]
    },
    {
      "cell_type": "code",
      "source": [
        "df['labels'].astype('category').cat.codes"
      ],
      "metadata": {
        "colab": {
          "base_uri": "https://localhost:8080/"
        },
        "id": "tarvzgxtmv9X",
        "outputId": "f766e44d-986a-444f-ad81-1d9a87301fb4"
      },
      "execution_count": null,
      "outputs": [
        {
          "output_type": "execute_result",
          "data": {
            "text/plain": [
              "0       0\n",
              "1       0\n",
              "2       0\n",
              "3       0\n",
              "4       0\n",
              "       ..\n",
              "2220    4\n",
              "2221    4\n",
              "2222    4\n",
              "2223    4\n",
              "2224    4\n",
              "Length: 2225, dtype: int8"
            ]
          },
          "metadata": {},
          "execution_count": 75
        }
      ]
    },
    {
      "cell_type": "code",
      "source": [
        "df['target']=df['labels'].astype('category').cat.codes\n",
        "df['target']"
      ],
      "metadata": {
        "colab": {
          "base_uri": "https://localhost:8080/"
        },
        "id": "buTcO_AfnNRh",
        "outputId": "63ed3fe7-3c9f-4234-839e-bd510a11fe2a"
      },
      "execution_count": null,
      "outputs": [
        {
          "output_type": "execute_result",
          "data": {
            "text/plain": [
              "0       0\n",
              "1       0\n",
              "2       0\n",
              "3       0\n",
              "4       0\n",
              "       ..\n",
              "2220    4\n",
              "2221    4\n",
              "2222    4\n",
              "2223    4\n",
              "2224    4\n",
              "Name: target, Length: 2225, dtype: int8"
            ]
          },
          "metadata": {},
          "execution_count": 76
        }
      ]
    },
    {
      "cell_type": "code",
      "source": [
        "from sklearn.model_selection import train_test_split\n",
        "df_train,df_test=train_test_split(df,test_size=0.3)"
      ],
      "metadata": {
        "id": "BZFMVz1LocsI"
      },
      "execution_count": null,
      "outputs": []
    },
    {
      "cell_type": "code",
      "source": [
        "df_train.head()"
      ],
      "metadata": {
        "colab": {
          "base_uri": "https://localhost:8080/",
          "height": 206
        },
        "id": "op3xurSRpLsl",
        "outputId": "1be22bcb-e664-4f62-fc16-01e4ed13732f"
      },
      "execution_count": null,
      "outputs": [
        {
          "output_type": "execute_result",
          "data": {
            "text/plain": [
              "                                                   text         labels  target\n",
              "1856  Global digital divide 'narrowing'\\n\\nThe \"digi...           tech       4\n",
              "641   Hard act to follow for OutKast\\n\\nUS rap duo O...  entertainment       1\n",
              "680   US 'to raise TV indecency fines'\\n\\nUS politic...  entertainment       1\n",
              "712   Greer attacks 'bully' Big Brother\\n\\nGermaine ...  entertainment       1\n",
              "2015  Mobile gaming takes off in India\\n\\nGaming on ...           tech       4"
            ],
            "text/html": [
              "\n",
              "  <div id=\"df-2d698c66-1e8c-48b3-8830-80a885cd30e8\">\n",
              "    <div class=\"colab-df-container\">\n",
              "      <div>\n",
              "<style scoped>\n",
              "    .dataframe tbody tr th:only-of-type {\n",
              "        vertical-align: middle;\n",
              "    }\n",
              "\n",
              "    .dataframe tbody tr th {\n",
              "        vertical-align: top;\n",
              "    }\n",
              "\n",
              "    .dataframe thead th {\n",
              "        text-align: right;\n",
              "    }\n",
              "</style>\n",
              "<table border=\"1\" class=\"dataframe\">\n",
              "  <thead>\n",
              "    <tr style=\"text-align: right;\">\n",
              "      <th></th>\n",
              "      <th>text</th>\n",
              "      <th>labels</th>\n",
              "      <th>target</th>\n",
              "    </tr>\n",
              "  </thead>\n",
              "  <tbody>\n",
              "    <tr>\n",
              "      <th>1856</th>\n",
              "      <td>Global digital divide 'narrowing'\\n\\nThe \"digi...</td>\n",
              "      <td>tech</td>\n",
              "      <td>4</td>\n",
              "    </tr>\n",
              "    <tr>\n",
              "      <th>641</th>\n",
              "      <td>Hard act to follow for OutKast\\n\\nUS rap duo O...</td>\n",
              "      <td>entertainment</td>\n",
              "      <td>1</td>\n",
              "    </tr>\n",
              "    <tr>\n",
              "      <th>680</th>\n",
              "      <td>US 'to raise TV indecency fines'\\n\\nUS politic...</td>\n",
              "      <td>entertainment</td>\n",
              "      <td>1</td>\n",
              "    </tr>\n",
              "    <tr>\n",
              "      <th>712</th>\n",
              "      <td>Greer attacks 'bully' Big Brother\\n\\nGermaine ...</td>\n",
              "      <td>entertainment</td>\n",
              "      <td>1</td>\n",
              "    </tr>\n",
              "    <tr>\n",
              "      <th>2015</th>\n",
              "      <td>Mobile gaming takes off in India\\n\\nGaming on ...</td>\n",
              "      <td>tech</td>\n",
              "      <td>4</td>\n",
              "    </tr>\n",
              "  </tbody>\n",
              "</table>\n",
              "</div>\n",
              "      <button class=\"colab-df-convert\" onclick=\"convertToInteractive('df-2d698c66-1e8c-48b3-8830-80a885cd30e8')\"\n",
              "              title=\"Convert this dataframe to an interactive table.\"\n",
              "              style=\"display:none;\">\n",
              "        \n",
              "  <svg xmlns=\"http://www.w3.org/2000/svg\" height=\"24px\"viewBox=\"0 0 24 24\"\n",
              "       width=\"24px\">\n",
              "    <path d=\"M0 0h24v24H0V0z\" fill=\"none\"/>\n",
              "    <path d=\"M18.56 5.44l.94 2.06.94-2.06 2.06-.94-2.06-.94-.94-2.06-.94 2.06-2.06.94zm-11 1L8.5 8.5l.94-2.06 2.06-.94-2.06-.94L8.5 2.5l-.94 2.06-2.06.94zm10 10l.94 2.06.94-2.06 2.06-.94-2.06-.94-.94-2.06-.94 2.06-2.06.94z\"/><path d=\"M17.41 7.96l-1.37-1.37c-.4-.4-.92-.59-1.43-.59-.52 0-1.04.2-1.43.59L10.3 9.45l-7.72 7.72c-.78.78-.78 2.05 0 2.83L4 21.41c.39.39.9.59 1.41.59.51 0 1.02-.2 1.41-.59l7.78-7.78 2.81-2.81c.8-.78.8-2.07 0-2.86zM5.41 20L4 18.59l7.72-7.72 1.47 1.35L5.41 20z\"/>\n",
              "  </svg>\n",
              "      </button>\n",
              "      \n",
              "  <style>\n",
              "    .colab-df-container {\n",
              "      display:flex;\n",
              "      flex-wrap:wrap;\n",
              "      gap: 12px;\n",
              "    }\n",
              "\n",
              "    .colab-df-convert {\n",
              "      background-color: #E8F0FE;\n",
              "      border: none;\n",
              "      border-radius: 50%;\n",
              "      cursor: pointer;\n",
              "      display: none;\n",
              "      fill: #1967D2;\n",
              "      height: 32px;\n",
              "      padding: 0 0 0 0;\n",
              "      width: 32px;\n",
              "    }\n",
              "\n",
              "    .colab-df-convert:hover {\n",
              "      background-color: #E2EBFA;\n",
              "      box-shadow: 0px 1px 2px rgba(60, 64, 67, 0.3), 0px 1px 3px 1px rgba(60, 64, 67, 0.15);\n",
              "      fill: #174EA6;\n",
              "    }\n",
              "\n",
              "    [theme=dark] .colab-df-convert {\n",
              "      background-color: #3B4455;\n",
              "      fill: #D2E3FC;\n",
              "    }\n",
              "\n",
              "    [theme=dark] .colab-df-convert:hover {\n",
              "      background-color: #434B5C;\n",
              "      box-shadow: 0px 1px 3px 1px rgba(0, 0, 0, 0.15);\n",
              "      filter: drop-shadow(0px 1px 2px rgba(0, 0, 0, 0.3));\n",
              "      fill: #FFFFFF;\n",
              "    }\n",
              "  </style>\n",
              "\n",
              "      <script>\n",
              "        const buttonEl =\n",
              "          document.querySelector('#df-2d698c66-1e8c-48b3-8830-80a885cd30e8 button.colab-df-convert');\n",
              "        buttonEl.style.display =\n",
              "          google.colab.kernel.accessAllowed ? 'block' : 'none';\n",
              "\n",
              "        async function convertToInteractive(key) {\n",
              "          const element = document.querySelector('#df-2d698c66-1e8c-48b3-8830-80a885cd30e8');\n",
              "          const dataTable =\n",
              "            await google.colab.kernel.invokeFunction('convertToInteractive',\n",
              "                                                     [key], {});\n",
              "          if (!dataTable) return;\n",
              "\n",
              "          const docLinkHtml = 'Like what you see? Visit the ' +\n",
              "            '<a target=\"_blank\" href=https://colab.research.google.com/notebooks/data_table.ipynb>data table notebook</a>'\n",
              "            + ' to learn more about interactive tables.';\n",
              "          element.innerHTML = '';\n",
              "          dataTable['output_type'] = 'display_data';\n",
              "          await google.colab.output.renderOutput(dataTable, element);\n",
              "          const docLink = document.createElement('div');\n",
              "          docLink.innerHTML = docLinkHtml;\n",
              "          element.appendChild(docLink);\n",
              "        }\n",
              "      </script>\n",
              "    </div>\n",
              "  </div>\n",
              "  "
            ]
          },
          "metadata": {},
          "execution_count": 78
        }
      ]
    },
    {
      "cell_type": "code",
      "source": [
        "df_test.head()"
      ],
      "metadata": {
        "colab": {
          "base_uri": "https://localhost:8080/",
          "height": 206
        },
        "id": "ULikS8dIpLvD",
        "outputId": "b7865e28-60b2-430d-da41-9527b507b7cc"
      },
      "execution_count": null,
      "outputs": [
        {
          "output_type": "execute_result",
          "data": {
            "text/plain": [
              "                                                   text    labels  target\n",
              "1592  Mourinho takes swipe at Arsenal\\n\\nChelsea bos...     sport       3\n",
              "308   AstraZeneca hit by drug failure\\n\\nShares in A...  business       0\n",
              "1247  Blair joins school sailing trip\\n\\nThe prime m...  politics       2\n",
              "1810  Dent continues Adelaide progress\\n\\nAmerican T...     sport       3\n",
              "1220  UKIP could sue Veritas defectors\\n\\nThe UK Ind...  politics       2"
            ],
            "text/html": [
              "\n",
              "  <div id=\"df-da624d51-a0d6-45c8-8b46-feca9e187335\">\n",
              "    <div class=\"colab-df-container\">\n",
              "      <div>\n",
              "<style scoped>\n",
              "    .dataframe tbody tr th:only-of-type {\n",
              "        vertical-align: middle;\n",
              "    }\n",
              "\n",
              "    .dataframe tbody tr th {\n",
              "        vertical-align: top;\n",
              "    }\n",
              "\n",
              "    .dataframe thead th {\n",
              "        text-align: right;\n",
              "    }\n",
              "</style>\n",
              "<table border=\"1\" class=\"dataframe\">\n",
              "  <thead>\n",
              "    <tr style=\"text-align: right;\">\n",
              "      <th></th>\n",
              "      <th>text</th>\n",
              "      <th>labels</th>\n",
              "      <th>target</th>\n",
              "    </tr>\n",
              "  </thead>\n",
              "  <tbody>\n",
              "    <tr>\n",
              "      <th>1592</th>\n",
              "      <td>Mourinho takes swipe at Arsenal\\n\\nChelsea bos...</td>\n",
              "      <td>sport</td>\n",
              "      <td>3</td>\n",
              "    </tr>\n",
              "    <tr>\n",
              "      <th>308</th>\n",
              "      <td>AstraZeneca hit by drug failure\\n\\nShares in A...</td>\n",
              "      <td>business</td>\n",
              "      <td>0</td>\n",
              "    </tr>\n",
              "    <tr>\n",
              "      <th>1247</th>\n",
              "      <td>Blair joins school sailing trip\\n\\nThe prime m...</td>\n",
              "      <td>politics</td>\n",
              "      <td>2</td>\n",
              "    </tr>\n",
              "    <tr>\n",
              "      <th>1810</th>\n",
              "      <td>Dent continues Adelaide progress\\n\\nAmerican T...</td>\n",
              "      <td>sport</td>\n",
              "      <td>3</td>\n",
              "    </tr>\n",
              "    <tr>\n",
              "      <th>1220</th>\n",
              "      <td>UKIP could sue Veritas defectors\\n\\nThe UK Ind...</td>\n",
              "      <td>politics</td>\n",
              "      <td>2</td>\n",
              "    </tr>\n",
              "  </tbody>\n",
              "</table>\n",
              "</div>\n",
              "      <button class=\"colab-df-convert\" onclick=\"convertToInteractive('df-da624d51-a0d6-45c8-8b46-feca9e187335')\"\n",
              "              title=\"Convert this dataframe to an interactive table.\"\n",
              "              style=\"display:none;\">\n",
              "        \n",
              "  <svg xmlns=\"http://www.w3.org/2000/svg\" height=\"24px\"viewBox=\"0 0 24 24\"\n",
              "       width=\"24px\">\n",
              "    <path d=\"M0 0h24v24H0V0z\" fill=\"none\"/>\n",
              "    <path d=\"M18.56 5.44l.94 2.06.94-2.06 2.06-.94-2.06-.94-.94-2.06-.94 2.06-2.06.94zm-11 1L8.5 8.5l.94-2.06 2.06-.94-2.06-.94L8.5 2.5l-.94 2.06-2.06.94zm10 10l.94 2.06.94-2.06 2.06-.94-2.06-.94-.94-2.06-.94 2.06-2.06.94z\"/><path d=\"M17.41 7.96l-1.37-1.37c-.4-.4-.92-.59-1.43-.59-.52 0-1.04.2-1.43.59L10.3 9.45l-7.72 7.72c-.78.78-.78 2.05 0 2.83L4 21.41c.39.39.9.59 1.41.59.51 0 1.02-.2 1.41-.59l7.78-7.78 2.81-2.81c.8-.78.8-2.07 0-2.86zM5.41 20L4 18.59l7.72-7.72 1.47 1.35L5.41 20z\"/>\n",
              "  </svg>\n",
              "      </button>\n",
              "      \n",
              "  <style>\n",
              "    .colab-df-container {\n",
              "      display:flex;\n",
              "      flex-wrap:wrap;\n",
              "      gap: 12px;\n",
              "    }\n",
              "\n",
              "    .colab-df-convert {\n",
              "      background-color: #E8F0FE;\n",
              "      border: none;\n",
              "      border-radius: 50%;\n",
              "      cursor: pointer;\n",
              "      display: none;\n",
              "      fill: #1967D2;\n",
              "      height: 32px;\n",
              "      padding: 0 0 0 0;\n",
              "      width: 32px;\n",
              "    }\n",
              "\n",
              "    .colab-df-convert:hover {\n",
              "      background-color: #E2EBFA;\n",
              "      box-shadow: 0px 1px 2px rgba(60, 64, 67, 0.3), 0px 1px 3px 1px rgba(60, 64, 67, 0.15);\n",
              "      fill: #174EA6;\n",
              "    }\n",
              "\n",
              "    [theme=dark] .colab-df-convert {\n",
              "      background-color: #3B4455;\n",
              "      fill: #D2E3FC;\n",
              "    }\n",
              "\n",
              "    [theme=dark] .colab-df-convert:hover {\n",
              "      background-color: #434B5C;\n",
              "      box-shadow: 0px 1px 3px 1px rgba(0, 0, 0, 0.15);\n",
              "      filter: drop-shadow(0px 1px 2px rgba(0, 0, 0, 0.3));\n",
              "      fill: #FFFFFF;\n",
              "    }\n",
              "  </style>\n",
              "\n",
              "      <script>\n",
              "        const buttonEl =\n",
              "          document.querySelector('#df-da624d51-a0d6-45c8-8b46-feca9e187335 button.colab-df-convert');\n",
              "        buttonEl.style.display =\n",
              "          google.colab.kernel.accessAllowed ? 'block' : 'none';\n",
              "\n",
              "        async function convertToInteractive(key) {\n",
              "          const element = document.querySelector('#df-da624d51-a0d6-45c8-8b46-feca9e187335');\n",
              "          const dataTable =\n",
              "            await google.colab.kernel.invokeFunction('convertToInteractive',\n",
              "                                                     [key], {});\n",
              "          if (!dataTable) return;\n",
              "\n",
              "          const docLinkHtml = 'Like what you see? Visit the ' +\n",
              "            '<a target=\"_blank\" href=https://colab.research.google.com/notebooks/data_table.ipynb>data table notebook</a>'\n",
              "            + ' to learn more about interactive tables.';\n",
              "          element.innerHTML = '';\n",
              "          dataTable['output_type'] = 'display_data';\n",
              "          await google.colab.output.renderOutput(dataTable, element);\n",
              "          const docLink = document.createElement('div');\n",
              "          docLink.innerHTML = docLinkHtml;\n",
              "          element.appendChild(docLink);\n",
              "        }\n",
              "      </script>\n",
              "    </div>\n",
              "  </div>\n",
              "  "
            ]
          },
          "metadata": {},
          "execution_count": 79
        }
      ]
    },
    {
      "cell_type": "code",
      "source": [
        "from sklearn.feature_extraction.text import CountVectorizer,TfidfVectorizer\n",
        "vectorizer=TfidfVectorizer(stop_words='english')\n",
        "x_train=vectorizer.fit_transform(df_train['text'])\n",
        "x_test=vectorizer.transform(df_test['text'])\n",
        "y_train=df_train['target']\n",
        "y_test=df_test['target']"
      ],
      "metadata": {
        "id": "Ak702i0VncbR"
      },
      "execution_count": null,
      "outputs": []
    },
    {
      "cell_type": "code",
      "source": [
        "print(x_train)"
      ],
      "metadata": {
        "colab": {
          "base_uri": "https://localhost:8080/"
        },
        "id": "Yh4C0NPjvwtT",
        "outputId": "b1f41c3e-302f-43e0-d1ee-11cbb3e2d92f"
      },
      "execution_count": null,
      "outputs": [
        {
          "output_type": "stream",
          "name": "stdout",
          "text": [
            "  (0, 59)\t0.025916323564664504\n",
            "  (0, 589)\t0.0339038137798029\n",
            "  (0, 7083)\t0.0860365300496284\n",
            "  (0, 2687)\t0.035752539062742804\n",
            "  (0, 5331)\t0.05777773602337794\n",
            "  (0, 19233)\t0.0491000265841402\n",
            "  (0, 17003)\t0.057037736664680684\n",
            "  (0, 6574)\t0.03246551991620839\n",
            "  (0, 5399)\t0.03463300055295745\n",
            "  (0, 12520)\t0.06954710328671276\n",
            "  (0, 14726)\t0.06395910361334323\n",
            "  (0, 8666)\t0.058576996219351814\n",
            "  (0, 21235)\t0.06954710328671276\n",
            "  (0, 18096)\t0.05509900697072145\n",
            "  (0, 20471)\t0.03153597277886649\n",
            "  (0, 17866)\t0.04014563819485006\n",
            "  (0, 16089)\t0.06549836316801436\n",
            "  (0, 5871)\t0.052080604971157546\n",
            "  (0, 5886)\t0.049765968087131095\n",
            "  (0, 18031)\t0.04068552220332832\n",
            "  (0, 17979)\t0.19770978717955992\n",
            "  (0, 3008)\t0.02908832164937062\n",
            "  (0, 5465)\t0.04355814903329246\n",
            "  (0, 13940)\t0.035923234189806\n",
            "  (0, 9283)\t0.042844601138468545\n",
            "  :\t:\n",
            "  (1556, 11410)\t0.06262727477827257\n",
            "  (1556, 24897)\t0.05495839926317296\n",
            "  (1556, 22177)\t0.05006057906833304\n",
            "  (1556, 13212)\t0.03920732221139126\n",
            "  (1556, 9274)\t0.04002828525999616\n",
            "  (1556, 24898)\t0.04269347091946831\n",
            "  (1556, 2722)\t0.0950433568453943\n",
            "  (1556, 19143)\t0.06775724964773629\n",
            "  (1556, 10001)\t0.08211734886002361\n",
            "  (1556, 411)\t0.06919134087465292\n",
            "  (1556, 8279)\t0.03345269253961578\n",
            "  (1556, 24866)\t0.10665299291490069\n",
            "  (1556, 3292)\t0.03357942556703152\n",
            "  (1556, 20477)\t0.03097892005332793\n",
            "  (1556, 25019)\t0.048727549945111415\n",
            "  (1556, 4455)\t0.04765012698567925\n",
            "  (1556, 23233)\t0.15682185410973903\n",
            "  (1556, 23001)\t0.02517580374086043\n",
            "  (1556, 24980)\t0.14044861345906404\n",
            "  (1556, 25184)\t0.020604263501656294\n",
            "  (1556, 2725)\t0.19325076261860497\n",
            "  (1556, 14752)\t0.0450877748508777\n",
            "  (1556, 1963)\t0.04437046112286464\n",
            "  (1556, 19896)\t0.02951802615307666\n",
            "  (1556, 16989)\t0.025351835447014553\n"
          ]
        }
      ]
    },
    {
      "cell_type": "code",
      "source": [
        "print(x_test)"
      ],
      "metadata": {
        "colab": {
          "base_uri": "https://localhost:8080/"
        },
        "id": "sXQ4D8BMvzwL",
        "outputId": "a4b0f1be-959d-4c27-f89f-c897e902724a"
      },
      "execution_count": null,
      "outputs": [
        {
          "output_type": "stream",
          "name": "stdout",
          "text": [
            "  (0, 25184)\t0.06440964571170323\n",
            "  (0, 24866)\t0.05556682873902398\n",
            "  (0, 24678)\t0.06829079924754819\n",
            "  (0, 23814)\t0.11600754963233759\n",
            "  (0, 23735)\t0.08626379742911897\n",
            "  (0, 23256)\t0.14342209362205927\n",
            "  (0, 23053)\t0.07427721137873639\n",
            "  (0, 23038)\t0.12402578973651644\n",
            "  (0, 23001)\t0.11805065970879099\n",
            "  (0, 22786)\t0.10911964078719386\n",
            "  (0, 22708)\t0.08003293949901884\n",
            "  (0, 22643)\t0.0960027234777761\n",
            "  (0, 22499)\t0.07976749372379896\n",
            "  (0, 22397)\t0.15144033372623816\n",
            "  (0, 21342)\t0.09219848978738629\n",
            "  (0, 21119)\t0.12666642821834403\n",
            "  (0, 20930)\t0.10692010787987485\n",
            "  (0, 20720)\t0.07292617009061336\n",
            "  (0, 20111)\t0.11295915622348318\n",
            "  (0, 19896)\t0.023068594595429533\n",
            "  (0, 19545)\t0.09123364412444346\n",
            "  (0, 19256)\t0.08385337590504764\n",
            "  (0, 18720)\t0.09925188422862233\n",
            "  (0, 17957)\t0.06785294933171034\n",
            "  (0, 17783)\t0.07638296621662911\n",
            "  :\t:\n",
            "  (667, 4802)\t0.16589154126885325\n",
            "  (667, 4626)\t0.0816156045850258\n",
            "  (667, 4495)\t0.09509327987117897\n",
            "  (667, 3971)\t0.06541405725449531\n",
            "  (667, 3781)\t0.3613890934049186\n",
            "  (667, 3498)\t0.0795971392764201\n",
            "  (667, 3355)\t0.06261486805977524\n",
            "  (667, 3112)\t0.0795971392764201\n",
            "  (667, 2956)\t0.10801773934906297\n",
            "  (667, 2610)\t0.06127049938522662\n",
            "  (667, 2578)\t0.07702545815954527\n",
            "  (667, 2447)\t0.049137192773622065\n",
            "  (667, 2405)\t0.06982016310966026\n",
            "  (667, 1962)\t0.05708503795146178\n",
            "  (667, 1832)\t0.16114059436893957\n",
            "  (667, 1665)\t0.059132858515263675\n",
            "  (667, 1540)\t0.10801773934906297\n",
            "  (667, 1371)\t0.0853163037044191\n",
            "  (667, 1343)\t0.0853163037044191\n",
            "  (667, 878)\t0.09252159875430412\n",
            "  (667, 590)\t0.06764583770658578\n",
            "  (667, 410)\t0.042172643902066605\n",
            "  (667, 193)\t0.07029835110788822\n",
            "  (667, 179)\t0.10229857492106398\n",
            "  (667, 1)\t0.10514111829467797\n"
          ]
        }
      ]
    },
    {
      "cell_type": "code",
      "source": [
        "print(y_train)"
      ],
      "metadata": {
        "colab": {
          "base_uri": "https://localhost:8080/"
        },
        "id": "FxyN4g5wv1cj",
        "outputId": "aaaf6f8c-414a-4b9d-fe5f-a250eceefe6e"
      },
      "execution_count": null,
      "outputs": [
        {
          "output_type": "stream",
          "name": "stdout",
          "text": [
            "1856    4\n",
            "641     1\n",
            "680     1\n",
            "712     1\n",
            "2015    4\n",
            "       ..\n",
            "2151    4\n",
            "472     0\n",
            "573     1\n",
            "1352    3\n",
            "1353    3\n",
            "Name: target, Length: 1557, dtype: int8\n"
          ]
        }
      ]
    },
    {
      "cell_type": "code",
      "source": [
        "print(y_test)"
      ],
      "metadata": {
        "colab": {
          "base_uri": "https://localhost:8080/"
        },
        "id": "nNFmHxQEv3K3",
        "outputId": "a3ed640f-2878-48a4-e3dd-a445ae507f31"
      },
      "execution_count": null,
      "outputs": [
        {
          "output_type": "stream",
          "name": "stdout",
          "text": [
            "1592    3\n",
            "308     0\n",
            "1247    2\n",
            "1810    3\n",
            "1220    2\n",
            "       ..\n",
            "1476    3\n",
            "1544    3\n",
            "1281    2\n",
            "646     1\n",
            "684     1\n",
            "Name: target, Length: 668, dtype: int8\n"
          ]
        }
      ]
    },
    {
      "cell_type": "code",
      "source": [
        "k=df['target'].max()+1  #no of classes\n",
        "k\n",
        "d=x_train.shape[1]   #no of dimmensions\n",
        "d"
      ],
      "metadata": {
        "colab": {
          "base_uri": "https://localhost:8080/"
        },
        "id": "wwWu2i0xqVvp",
        "outputId": "3c2290ec-8c17-4483-e122-4217685fb063"
      },
      "execution_count": null,
      "outputs": [
        {
          "output_type": "execute_result",
          "data": {
            "text/plain": [
              "25315"
            ]
          },
          "metadata": {},
          "execution_count": 85
        }
      ]
    },
    {
      "cell_type": "code",
      "source": [
        "i=Input(shape=(d,))\n",
        "x=Dense(300,activation='relu')(i)\n",
        "x=Dense(k)(x)\n",
        "model=Model(i,x)"
      ],
      "metadata": {
        "id": "bK6hcx37q5pC"
      },
      "execution_count": null,
      "outputs": []
    },
    {
      "cell_type": "code",
      "source": [
        "model.summary()"
      ],
      "metadata": {
        "colab": {
          "base_uri": "https://localhost:8080/"
        },
        "id": "3YWBkXAfyNIT",
        "outputId": "2b535af5-7e0b-455d-bcb8-01a9f81d3b10"
      },
      "execution_count": null,
      "outputs": [
        {
          "output_type": "stream",
          "name": "stdout",
          "text": [
            "Model: \"model_3\"\n",
            "_________________________________________________________________\n",
            " Layer (type)                Output Shape              Param #   \n",
            "=================================================================\n",
            " input_4 (InputLayer)        [(None, 25315)]           0         \n",
            "                                                                 \n",
            " dense_6 (Dense)             (None, 300)               7594800   \n",
            "                                                                 \n",
            " dense_7 (Dense)             (None, 5)                 1505      \n",
            "                                                                 \n",
            "=================================================================\n",
            "Total params: 7,596,305\n",
            "Trainable params: 7,596,305\n",
            "Non-trainable params: 0\n",
            "_________________________________________________________________\n"
          ]
        }
      ]
    },
    {
      "cell_type": "code",
      "source": [
        "model.compile(loss=tf.keras.losses.SparseCategoricalCrossentropy(from_logits=True),optimizer='adam',metrics=['accuracy'])"
      ],
      "metadata": {
        "id": "5Qua3mHeyXtx"
      },
      "execution_count": null,
      "outputs": []
    },
    {
      "cell_type": "code",
      "source": [
        "x_train=x_train.toarray()\n",
        "x_test=x_test.toarray()"
      ],
      "metadata": {
        "id": "STbdtxZqyuLW"
      },
      "execution_count": null,
      "outputs": []
    },
    {
      "cell_type": "code",
      "source": [
        "r=model.fit(x_train,y_train,validation_data=(x_test,y_test),epochs=7,batch_size=128)"
      ],
      "metadata": {
        "colab": {
          "base_uri": "https://localhost:8080/"
        },
        "id": "vtYFca1Zyz1q",
        "outputId": "6f8b35c9-0d58-40b8-b17a-618b49aef631"
      },
      "execution_count": null,
      "outputs": [
        {
          "output_type": "stream",
          "name": "stdout",
          "text": [
            "Epoch 1/7\n",
            "13/13 [==============================] - 4s 246ms/step - loss: 1.4531 - accuracy: 0.8420 - val_loss: 1.1816 - val_accuracy: 0.9611\n",
            "Epoch 2/7\n",
            "13/13 [==============================] - 4s 282ms/step - loss: 0.8787 - accuracy: 0.9923 - val_loss: 0.7181 - val_accuracy: 0.9671\n",
            "Epoch 3/7\n",
            "13/13 [==============================] - 2s 171ms/step - loss: 0.4162 - accuracy: 0.9961 - val_loss: 0.4156 - val_accuracy: 0.9731\n",
            "Epoch 4/7\n",
            "13/13 [==============================] - 3s 197ms/step - loss: 0.1811 - accuracy: 0.9994 - val_loss: 0.2694 - val_accuracy: 0.9746\n",
            "Epoch 5/7\n",
            "13/13 [==============================] - 2s 175ms/step - loss: 0.0874 - accuracy: 1.0000 - val_loss: 0.2041 - val_accuracy: 0.9760\n",
            "Epoch 6/7\n",
            "13/13 [==============================] - 3s 230ms/step - loss: 0.0499 - accuracy: 1.0000 - val_loss: 0.1723 - val_accuracy: 0.9746\n",
            "Epoch 7/7\n",
            "13/13 [==============================] - 3s 220ms/step - loss: 0.0332 - accuracy: 1.0000 - val_loss: 0.1540 - val_accuracy: 0.9731\n"
          ]
        }
      ]
    },
    {
      "cell_type": "code",
      "source": [
        "plt.plot(r.history['loss'],label=['train loss'])\n",
        "plt.plot(r.history['val_loss'],label=['val loss'])\n",
        "plt.legend()"
      ],
      "metadata": {
        "colab": {
          "base_uri": "https://localhost:8080/",
          "height": 447
        },
        "id": "JIuYziywzGAK",
        "outputId": "97adfb2c-2235-4f67-dcc8-699583a4f3ac"
      },
      "execution_count": null,
      "outputs": [
        {
          "output_type": "execute_result",
          "data": {
            "text/plain": [
              "<matplotlib.legend.Legend at 0x7fba74a177c0>"
            ]
          },
          "metadata": {},
          "execution_count": 92
        },
        {
          "output_type": "display_data",
          "data": {
            "text/plain": [
              "<Figure size 640x480 with 1 Axes>"
            ],
            "image/png": "[encoded data removed]"
          },
          "metadata": {}
        }
      ]
    },
    {
      "cell_type": "code",
      "source": [
        "plt.plot(r.history['accuracy'],label=['train accuracy'])\n",
        "plt.plot(r.history['val_accuracy'],label=['val accuracy'])\n",
        "plt.legend()"
      ],
      "metadata": {
        "colab": {
          "base_uri": "https://localhost:8080/",
          "height": 447
        },
        "id": "sFj-j9i3z4pr",
        "outputId": "6d9c248d-9379-4064-c6d5-a4c78d670537"
      },
      "execution_count": null,
      "outputs": [
        {
          "output_type": "execute_result",
          "data": {
            "text/plain": [
              "<matplotlib.legend.Legend at 0x7fba62c271f0>"
            ]
          },
          "metadata": {},
          "execution_count": 93
        },
        {
          "output_type": "display_data",
          "data": {
            "text/plain": [
              "<Figure size 640x480 with 1 Axes>"
            ],
            "image/png": "[encoded data removed]"
          },
          "metadata": {}
        }
      ]
    },
    {
      "cell_type": "code",
      "source": [
        "df['labels'].hist()"
      ],
      "metadata": {
        "id": "lrlS2r641VQy",
        "outputId": "bed6a5b2-ceef-44bd-ea69-c6905182d9db",
        "colab": {
          "base_uri": "https://localhost:8080/",
          "height": 447
        }
      },
      "execution_count": null,
      "outputs": [
        {
          "output_type": "execute_result",
          "data": {
            "text/plain": [
              "<Axes: >"
            ]
          },
          "metadata": {},
          "execution_count": 94
        },
        {
          "output_type": "display_data",
          "data": {
            "text/plain": [
              "<Figure size 640x480 with 1 Axes>"
            ],
            "image/png": "[encoded data removed]"
          },
          "metadata": {}
        }
      ]
    },
    {
      "cell_type": "code",
      "source": [],
      "metadata": {
        "id": "kXZ4yEf31aXw"
      },
      "execution_count": null,
      "outputs": []
    }
  ]
}