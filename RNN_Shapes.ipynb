{
  "nbformat": 4,
  "nbformat_minor": 0,
  "metadata": {
    "colab": {
      "provenance": []
    },
    "kernelspec": {
      "name": "python3",
      "display_name": "Python 3"
    },
    "language_info": {
      "name": "python"
    }
  },
  "cells": [
    {
      "cell_type": "code",
      "execution_count": 1,
      "metadata": {
        "id": "uzKDitFAobUm"
      },
      "outputs": [],
      "source": [
        "import numpy as np\n",
        "import pandas as pd\n",
        "import matplotlib.pyplot as plt\n",
        "import seaborn as sns"
      ]
    },
    {
      "cell_type": "code",
      "source": [
        "import tensorflow as tf\n",
        "from tensorflow.keras.layers import Input,Dense,SimpleRNN,Flatten\n",
        "from tensorflow.keras.models import Model\n",
        "from tensorflow.keras.optimizers import SGD,Adam"
      ],
      "metadata": {
        "id": "47z48sJ1om76"
      },
      "execution_count": 2,
      "outputs": []
    },
    {
      "cell_type": "code",
      "source": [
        "N=1 #no of samples\n",
        "T=10 #sequence length\n",
        "D=3 #no of input features\n",
        "K=2 #no of output units\n",
        "X=np.random.randn(N,T,D)\n",
        "M=5 #no of hidden units\n",
        "i=Input(shape=(T,D))\n",
        "x=SimpleRNN(M)(i)\n",
        "x=Dense(K)(x)\n",
        "model=Model(i,x)"
      ],
      "metadata": {
        "id": "-oOXtjPZpMrP"
      },
      "execution_count": 3,
      "outputs": []
    },
    {
      "cell_type": "code",
      "source": [
        "model.summary()"
      ],
      "metadata": {
        "colab": {
          "base_uri": "https://localhost:8080/"
        },
        "id": "OLEeiJytr8xZ",
        "outputId": "03680bb6-0e8a-4fb5-acf4-0a31d79b286c"
      },
      "execution_count": 5,
      "outputs": [
        {
          "output_type": "stream",
          "name": "stdout",
          "text": [
            "Model: \"model\"\n",
            "_________________________________________________________________\n",
            " Layer (type)                Output Shape              Param #   \n",
            "=================================================================\n",
            " input_1 (InputLayer)        [(None, 10, 3)]           0         \n",
            "                                                                 \n",
            " simple_rnn (SimpleRNN)      (None, 5)                 45        \n",
            "                                                                 \n",
            " dense (Dense)               (None, 2)                 12        \n",
            "                                                                 \n",
            "=================================================================\n",
            "Total params: 57\n",
            "Trainable params: 57\n",
            "Non-trainable params: 0\n",
            "_________________________________________________________________\n"
          ]
        }
      ]
    },
    {
      "cell_type": "code",
      "source": [
        "y_pred=model.predict(X)\n",
        "print(y_pred)"
      ],
      "metadata": {
        "colab": {
          "base_uri": "https://localhost:8080/"
        },
        "id": "8HexnNKesSni",
        "outputId": "4b023516-cc32-4862-987b-1d615769c2e4"
      },
      "execution_count": 6,
      "outputs": [
        {
          "output_type": "stream",
          "name": "stdout",
          "text": [
            "1/1 [==============================] - 0s 311ms/step\n",
            "[[-0.16215928  0.0348811 ]]\n"
          ]
        }
      ]
    },
    {
      "cell_type": "code",
      "source": [
        "model.layers[1].get_weights()"
      ],
      "metadata": {
        "colab": {
          "base_uri": "https://localhost:8080/"
        },
        "id": "gOXUynfwscOr",
        "outputId": "4b246e5b-c080-42ff-fd85-4549933a666b"
      },
      "execution_count": 7,
      "outputs": [
        {
          "output_type": "execute_result",
          "data": {
            "text/plain": [
              "[array([[-0.03411323, -0.7672753 , -0.3693056 ,  0.2902313 , -0.30619872],\n",
              "        [ 0.6349905 , -0.83249754,  0.57012635, -0.7501964 ,  0.0615713 ],\n",
              "        [ 0.03237617, -0.04964131, -0.56538856,  0.55494493, -0.66779345]],\n",
              "       dtype=float32),\n",
              " array([[ 0.27406037,  0.47518387, -0.2054377 ,  0.7937231 ,  0.16398244],\n",
              "        [-0.6090106 , -0.12572053, -0.4636038 ,  0.2821939 , -0.5645695 ],\n",
              "        [ 0.01135881,  0.7262866 ,  0.3213912 , -0.24026707, -0.55799484],\n",
              "        [-0.05094494, -0.3632594 ,  0.7571791 ,  0.48169267, -0.24515162],\n",
              "        [ 0.7424774 , -0.31455526, -0.25739974, -0.02478185, -0.53189623]],\n",
              "       dtype=float32),\n",
              " array([0., 0., 0., 0., 0.], dtype=float32)]"
            ]
          },
          "metadata": {},
          "execution_count": 7
        }
      ]
    },
    {
      "cell_type": "code",
      "source": [
        "a,b,c=model.layers[1].get_weights()\n",
        "print(a.shape,b.shape,c.shape)"
      ],
      "metadata": {
        "colab": {
          "base_uri": "https://localhost:8080/"
        },
        "id": "YvBX-So_szyG",
        "outputId": "33d736dc-45f9-4d6c-e1d5-cd60fcd0075d"
      },
      "execution_count": 8,
      "outputs": [
        {
          "output_type": "stream",
          "name": "stdout",
          "text": [
            "(3, 5) (5, 5) (5,)\n"
          ]
        }
      ]
    },
    {
      "cell_type": "code",
      "source": [
        "Wx,Wh,bh=model.layers[1].get_weights()\n",
        "Wo,bo=model.layers[2].get_weights()\n",
        "print(Wx.shape,Wh.shape,bh.shape)\n",
        "print(Wo.shape,bo.shape)"
      ],
      "metadata": {
        "colab": {
          "base_uri": "https://localhost:8080/"
        },
        "id": "tE6jiWt4uHHo",
        "outputId": "ee1b2122-1360-477a-91d2-773e2cbe3897"
      },
      "execution_count": 9,
      "outputs": [
        {
          "output_type": "stream",
          "name": "stdout",
          "text": [
            "(3, 5) (5, 5) (5,)\n",
            "(5, 2) (2,)\n"
          ]
        }
      ]
    },
    {
      "cell_type": "code",
      "source": [
        "h_last=np.zeros(M) #initial hidden state\n",
        "x=X[0] #the only one sample\n",
        "y_pred=[] #this is where we store the outputs\n",
        "for t in range(T):\n",
        "  h=np.tanh(x[t].dot(Wx)+h_last.dot(Wh)+bh)\n",
        "  y=h.dot(Wo)+bo\n",
        "  y_pred.append(y)\n",
        "  h_last=h\n",
        "\n",
        "print(y_pred[-1])"
      ],
      "metadata": {
        "colab": {
          "base_uri": "https://localhost:8080/"
        },
        "id": "mai0Wd10vBln",
        "outputId": "a3fc45f8-70fc-4d3d-957d-eb7a4b9729fb"
      },
      "execution_count": 10,
      "outputs": [
        {
          "output_type": "stream",
          "name": "stdout",
          "text": [
            "[-0.1621593   0.03488111]\n"
          ]
        }
      ]
    },
    {
      "cell_type": "code",
      "source": [],
      "metadata": {
        "id": "7iZkU2DtyMNW"
      },
      "execution_count": null,
      "outputs": []
    }
  ]
}